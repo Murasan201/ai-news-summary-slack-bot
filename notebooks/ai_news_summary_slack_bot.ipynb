{
 "cells": [
  {
   "cell_type": "markdown",
   "id": "40b2f897",
   "metadata": {},
   "source": [
    "# AIニュース要約 Slack Bot Notebook\n",
    "\n",
    "このノートブックでは、OpenAI API と Slack Incoming Webhook を使って最新の AI ニュースを要約し、Slack に送信する一連の処理を実演します。"
   ]
  },
  {
   "cell_type": "code",
   "execution_count": null,
   "id": "439e905c",
   "metadata": {},
   "outputs": [],
   "source": [
    "# 1. 必要なライブラリをインストール\n",
    "!pip install feedparser openai requests"
   ]
  },
  {
   "cell_type": "code",
   "execution_count": null,
   "id": "a1e8f13b",
   "metadata": {},
   "outputs": [],
   "source": [
    "# 2. API キーの入力\n",
    "from getpass import getpass\n",
    "import os\n",
    "\n",
    "OPENAI_API_KEY = getpass(\"OpenAI API Key: \")\n",
    "SLACK_WEBHOOK_URL = getpass(\"Slack Webhook URL: \")\n",
    "\n",
    "os.environ[\"OPENAI_API_KEY\"] = OPENAI_API_KEY\n",
    "os.environ[\"SLACK_WEBHOOK_URL\"] = SLACK_WEBHOOK_URL"
   ]
  },
  {
   "cell_type": "code",
   "execution_count": null,
   "id": "7d77a34a",
   "metadata": {},
   "outputs": [],
   "source": [
    "# 3. ライブラリのインポート & 定数定義\n",
    "import feedparser\n",
    "import requests\n",
    "import openai\n",
    "from datetime import datetime\n",
    "import os\n",
    "\n",
    "# 環境変数から読み込み\n",
    "openai.api_key = os.getenv(\"OPENAI_API_KEY\")\n",
    "SLACK_WEBHOOK_URL = os.getenv(\"SLACK_WEBHOOK_URL\")\n",
    "\n",
    "# RSS フィード一覧 & 設定\n",
    "FEEDS = {\n",
    "    \"MIT Technology Review AI\": \"https://www.technologyreview.com/tag/artificial-intelligence/feed/\",\n",
    "    \"AI News\"                 : \"https://artificialintelligence-news.com/feed/\",\n",
    "    \"ITmedia AI＋\"            : \"https://rss.itmedia.co.jp/rss/2.0/aiplus.xml\"\n",
    "}\n",
    "MAX_ARTICLES = 3"
   ]
  },
  {
   "cell_type": "code",
   "execution_count": null,
   "id": "389c3524",
   "metadata": {},
   "outputs": [],
   "source": [
    "# 4. 関数定義\n",
    "def fetch_latest_entries(feed_url, max_items=3):\n",
    "    feed = feedparser.parse(feed_url)\n",
    "    entries = []\n",
    "    for entry in feed.entries[:max_items]:\n",
    "        title = entry.get(\"title\", \"\").strip()\n",
    "        summary = entry.get(\"summary\", \"\").strip()\n",
    "        link = entry.get(\"link\", \"\").strip()\n",
    "        entries.append(f\"- <{link}|{title}>: {summary}\")\n",
    "    return entries\n",
    "\n",
    "def summarize_with_chatgpt(site_name, items):\n",
    "    prompt = (\n",
    "        f\"以下は「{site_name}」の最新AIニュース記事の見出しと概要です。\\n\"\n",
    "        \"これらを技術トレンドや注目ポイントがひと目でわかるよう、\"\n",
    "        \"日本語で250文字以内の箇条書き要約にしてください。\\n\\n\"\n",
    "        + \"\\n\".join(items)\n",
    "    )\n",
    "    response = openai.chat.completions.create(\n",
    "        model=\"gpt-4o-mini\",\n",
    "        temperature=0.3,\n",
    "        messages=[\n",
    "            {\"role\": \"system\", \"content\": \"あなたは有能な技術ニュース要約アシスタントです。\"},\n",
    "            {\"role\": \"user\", \"content\": prompt}\n",
    "        ]\n",
    "    )\n",
    "    return response.choices[0].message.content.strip()\n",
    "\n",
    "def post_to_slack(text):\n",
    "    payload = {\"text\": text}\n",
    "    resp = requests.post(SLACK_WEBHOOK_URL, json=payload)\n",
    "    resp.raise_for_status()"
   ]
  },
  {
   "cell_type": "code",
   "execution_count": null,
   "id": "611520b0",
   "metadata": {},
   "outputs": [],
   "source": [
    "# 5. メイン処理の実行\n",
    "now = datetime.now().strftime(\"%Y-%m-%d %H:%M\")\n",
    "blocks = [f\"*AIニュース要約* (`{now}`)\"]\n",
    "\n",
    "for site, url in FEEDS.items():\n",
    "    entries = fetch_latest_entries(url, MAX_ARTICLES)\n",
    "    if not entries:\n",
    "        blocks.append(f\"> {site} のニュースを取得できませんでした。\")\n",
    "        continue\n",
    "    summary = summarize_with_chatgpt(site, entries)\n",
    "    blocks.append(f\"*{site}* の最新要約:\\n{summary}\")\n",
    "    blocks.append(\"\")\n",
    "\n",
    "message = \"\\n\".join(blocks)\n",
    "post_to_slack(message)\n",
    "print(\"Slackへ送信しました。\")"
   ]
  },
  {
   "cell_type": "code",
   "execution_count": null,
   "id": "506793ad",
   "metadata": {},
   "outputs": [],
   "source": [
    "# 6. 要約内容をノートブック上でプレビュー（任意）\n",
    "from IPython.display import Markdown, display\n",
    "\n",
    "display(Markdown(\"\\n\".join(blocks)))"
   ]
  }
 ],
 "metadata": {},
 "nbformat": 4,
 "nbformat_minor": 5
}
